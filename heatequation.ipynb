{
 "cells": [
  {
   "cell_type": "code",
   "execution_count": 1,
   "metadata": {},
   "outputs": [],
   "source": [
    "import numpy as np\n",
    "from scipy.sparse import dia_array\n",
    "import matplotlib.pyplot as plt\n",
    "from matplotlib.animation import FuncAnimation\n",
    "from matplotlib.colors import Normalize"
   ]
  },
  {
   "cell_type": "markdown",
   "metadata": {},
   "source": [
    "# Numerical solution of the heat equation using Python\n",
    "The heat equation is \n",
    "$$u^{\\prime} = \\alpha \\cdot \\Delta u$$\n",
    "where $u$ is an unknown function, $\\alpha$ is the diffusivity constant and $\\Delta$ is the Laplacian operator."
   ]
  },
  {
   "cell_type": "markdown",
   "metadata": {},
   "source": [
    "## Parameters\n",
    "- `h`: $\\Delta xy$, the step used for the two spatial domains\n",
    "- `n`: the number of points in each spatial dimension - `n` by `n` grid\n",
    "- `th`: $\\Delta t$, the time step\n",
    "- `t`: the number of time steps to evaluate\n",
    "- `a`: $\\alpha$, the diffusivity constant\n",
    "\n",
    "`g` or $\\gamma$ is $\\frac{\\alpha \\cdot \\Delta t}{\\Delta xy^2}$, the coefficient for the discrete Laplacian operator.\n",
    "\n",
    "If $\\Delta t$ is greater than $\\frac{\\Delta xy^2}{4\\alpha}$, the system will violently oscillate.\n"
   ]
  },
  {
   "cell_type": "code",
   "execution_count": 2,
   "metadata": {},
   "outputs": [],
   "source": [
    "h = 1\n",
    "n = 500\n",
    "th = 0.125\n",
    "t = 1000\n",
    "a = 2\n",
    "\n",
    "g = (a * th) / h**2"
   ]
  },
  {
   "cell_type": "markdown",
   "metadata": {},
   "source": [
    "## Initial Conditions\n",
    "The initial value must be a 1-dimensional array. In this case, the top of the simulation area is heated."
   ]
  },
  {
   "cell_type": "code",
   "execution_count": 3,
   "metadata": {},
   "outputs": [],
   "source": [
    "initial = np.array([[0 for i in range(n)] for i in range(n)])\n",
    "initial[n//3:2*n//3, n//3:2*n//3] = 50"
   ]
  },
  {
   "cell_type": "markdown",
   "metadata": {},
   "source": [
    "## Discrete Laplacian Operator\n",
    "The heat equation can be numerically solved by constructing a tridiagonal matrix that represents the discrete Laplace operator:\n",
    "\n",
    "$$\\frac{\\alpha \\cdot \\Delta t(u(x-h, y) + u(x+h, y) + u(x, y-h) + u(x, y+h) -4u(x, y))}{h^2}$$\n",
    "\n",
    "monstrous tridiagonal matrix:\n",
    "$$\n",
    "\\begin{pmatrix}\n",
    "-2 &      1 &        &        &        &      1 &        &        &        &        &        \\\\\n",
    " 1 &     -3 &  1     &        &        &        &      1 &        &        &        &        \\\\\n",
    "   & \\ddots & \\ddots & \\ddots &        &        &        &      1 &        &        &        \\\\\n",
    "   &        &  1     &     -3 &      1 &        &        &        &      1 &        &        \\\\\n",
    "   &        &        &      1 &     -2 &        &        &        &        &      1 &        \\\\\n",
    " 1 &        &        &        &        &     -3 &      1 &        &        &        & \\ddots \\\\\n",
    "   &      1 &        &        &        &      1 &     -4 &      1 &        &        &        \\\\\n",
    "   &        &      1 &        &        &        & \\ddots & \\ddots & \\ddots &        &        \\\\\n",
    "   &        &        &      1 &        &        &        &      1 &     -4 &      1 &        \\\\\n",
    "   &        &        &        &      1 &        &        &        &      1 &     -3 &        \\\\\n",
    "   &        &        &        &        &      1 &        &        &        &        & \\ddots \\\\\n",
    "   &        &        &        &        &        & \\ddots &        &        &        &        \\\\\n",
    "\\end{pmatrix}\n",
    "$$\n",
    "\n",
    "This is then multiplied by $\\gamma$. Since this gives the derivative of position according to the heat equation, the $n^2$ by $n^2$ identity matrix must be added element-wise to this so that it will give the new position when applied to a state."
   ]
  },
  {
   "cell_type": "code",
   "execution_count": 4,
   "metadata": {},
   "outputs": [],
   "source": [
    "data = np.array([\n",
    "    [g for i in range(n**2)],\n",
    "    np.tile([0] + [g for i in range(n-1)], n),\n",
    "    np.append(np.append([-2] + [-3 for i in range(n-2)] + [-2],\n",
    "                np.tile([-3] + [-4 for i in range(n-2)] + [-3], n-2)),\n",
    "                        [-2] + [-3 for i in range(n-2)] + [-2]) * g + 1,\n",
    "    np.tile([g for i in range(n-1)] + [0], n),\n",
    "    [g for i in range(n**2)]\n",
    "])\n",
    "\n",
    "offsets = np.array([n, 1, 0, -1, -n])\n",
    "\n",
    "A = dia_array((data, offsets), shape=(n**2, n**2)).tocsr()"
   ]
  },
  {
   "cell_type": "markdown",
   "metadata": {},
   "source": [
    "## Solution\n",
    "The discrete Laplacian is repeatedly applied to the previous frame, then any boundary conditions are applied (in this case, the top is a constant temperature)."
   ]
  },
  {
   "cell_type": "code",
   "execution_count": 5,
   "metadata": {},
   "outputs": [],
   "source": [
    "Z = np.zeros((t, n**2), dtype=np.float32)\n",
    "Z[0] = initial.flatten()\n",
    "\n",
    "for i in range(1, t):\n",
    "    Z[i] = A.dot(Z[i-1])\n",
    "    Z[i][:n] = 50 # boundary condition\n",
    "\n",
    "Z = Z.reshape((t, n, n))\n"
   ]
  },
  {
   "cell_type": "markdown",
   "metadata": {},
   "source": [
    "## Plot\n",
    "Matplotlib is used to generate an animation of the solution. The data has to be normalized manually, since otherwise Matplotlib would change the normalization range for each frame."
   ]
  },
  {
   "cell_type": "code",
   "execution_count": null,
   "metadata": {},
   "outputs": [],
   "source": [
    "%matplotlib widget\n",
    "\n",
    "fig, ax = plt.subplots()\n",
    "\n",
    "fig.set_dpi(96)\n",
    "fig.set_figheight(7.5)\n",
    "fig.set_figwidth(10)\n",
    "\n",
    "norm = Normalize(np.min(initial), np.max(initial))\n",
    "\n",
    "def animate(frame):\n",
    "    ax.cla()\n",
    "    ax.set_title(frame*4)\n",
    "    ax.imshow(Z[frame*4], cmap='turbo', norm=norm)\n",
    "\n",
    "anim = FuncAnimation(fig, animate, interval=33, frames=(t-1) // 4, repeat=False)\n",
    "\n",
    "plt.show()\n",
    "anim.save('heat.gif', savefig_kwargs={'facecolor': 'white'})\n"
   ]
  }
 ],
 "metadata": {
  "interpreter": {
   "hash": "916dbcbb3f70747c44a77c7bcd40155683ae19c65e1c03b4aa3499c5328201f1"
  },
  "kernelspec": {
   "display_name": "Python 3.8.10 64-bit",
   "language": "python",
   "name": "python3"
  },
  "language_info": {
   "codemirror_mode": {
    "name": "ipython",
    "version": 3
   },
   "file_extension": ".py",
   "mimetype": "text/x-python",
   "name": "python",
   "nbconvert_exporter": "python",
   "pygments_lexer": "ipython3",
   "version": "3.8.10"
  },
  "orig_nbformat": 4
 },
 "nbformat": 4,
 "nbformat_minor": 2
}
